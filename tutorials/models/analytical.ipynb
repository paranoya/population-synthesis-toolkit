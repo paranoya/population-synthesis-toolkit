{
 "cells": [
  {
   "cell_type": "markdown",
   "id": "61f042d2",
   "metadata": {},
   "source": [
    "# Analytical Chemical Evolution Models\n",
    "\n",
    "In this tutorial we are going to create a Chemical Evolution Model based on an analytical expression for the Mass/Star Formation History and the Chemical Enrichemt History."
   ]
  },
  {
   "cell_type": "markdown",
   "id": "1eafad0f",
   "metadata": {},
   "source": [
    "Import the required moduels for running this tutorial"
   ]
  },
  {
   "cell_type": "code",
   "execution_count": 1,
   "id": "749e02d8",
   "metadata": {},
   "outputs": [],
   "source": [
    "import numpy as np\n",
    "import matplotlib.pyplot as plt\n",
    "from matplotlib.colors import LogNorm\n",
    "\n",
    "from pst.SSP import PopStar\n",
    "from pst import models\n",
    "from astropy import units as u"
   ]
  },
  {
   "cell_type": "markdown",
   "id": "e7146155",
   "metadata": {},
   "source": [
    "## Chemical Evolution Model"
   ]
  },
  {
   "cell_type": "markdown",
   "id": "29d1293d-0612-4c21-adcf-21b7fece9d73",
   "metadata": {},
   "source": [
    "List the basic models:"
   ]
  },
  {
   "cell_type": "code",
   "execution_count": 2,
   "id": "efa2dde3-21a0-4e84-bfea-be7af3a0946a",
   "metadata": {},
   "outputs": [
    {
     "data": {
      "text/plain": [
       "[pst.models.SingleBurstCEM,\n",
       " pst.models.ExponentialCEM,\n",
       " pst.models.ExponentialDelayedCEM,\n",
       " pst.models.GaussianBurstCEM,\n",
       " pst.models.LogNormalCEM,\n",
       " pst.models.TabularCEM,\n",
       " pst.models.ParticleListCEM,\n",
       " pst.fitting_module.Polynomial_MFH]"
      ]
     },
     "execution_count": 2,
     "metadata": {},
     "output_type": "execute_result"
    }
   ],
   "source": [
    "models.ChemicalEvolutionModel.__subclasses__()"
   ]
  },
  {
   "cell_type": "markdown",
   "id": "0b9aa9d9-9487-4831-9a96-a237b7cd550b",
   "metadata": {},
   "source": [
    "As their names suggest, many of them are based on simple anañytical functions.\n",
    "Let us consider a slightly more complex model: a log-normal star formation history, quenched at $t=10$ Gyr, with a power-law metallicity evolution."
   ]
  },
  {
   "cell_type": "code",
   "execution_count": 3,
   "id": "03a978a0-791d-4cd9-8dcb-0223f9a9f73c",
   "metadata": {},
   "outputs": [
    {
     "name": "stdout",
     "output_type": "stream",
     "text": [
      "Help on class LogNormalQuenchedCEM in module pst.models:\n",
      "\n",
      "class LogNormalQuenchedCEM(LogNormalZPowerLawCEM)\n",
      " |  LogNormalQuenchedCEM(**kwargs)\n",
      " |  \n",
      " |  A :class:`LogNormalCEM` with a quenching event.\n",
      " |  \n",
      " |  Method resolution order:\n",
      " |      LogNormalQuenchedCEM\n",
      " |      LogNormalZPowerLawCEM\n",
      " |      MassPropMetallicityMixin\n",
      " |      LogNormalCEM\n",
      " |      ChemicalEvolutionModel\n",
      " |      abc.ABC\n",
      " |      builtins.object\n",
      " |  \n",
      " |  Methods defined here:\n",
      " |  \n",
      " |  __init__(self, **kwargs)\n",
      " |      Initialize self.  See help(type(self)) for accurate signature.\n",
      " |  \n",
      " |  stellar_mass_formed = wrapper_stellar_mass_formed(*args)\n",
      " |  \n",
      " |  ----------------------------------------------------------------------\n",
      " |  Data and other attributes defined here:\n",
      " |  \n",
      " |  __abstractmethods__ = frozenset()\n",
      " |  \n",
      " |  ----------------------------------------------------------------------\n",
      " |  Methods inherited from MassPropMetallicityMixin:\n",
      " |  \n",
      " |  ism_metallicity(self, times)\n",
      " |  \n",
      " |  ----------------------------------------------------------------------\n",
      " |  Data descriptors inherited from MassPropMetallicityMixin:\n",
      " |  \n",
      " |  __dict__\n",
      " |      dictionary for instance variables (if defined)\n",
      " |  \n",
      " |  __weakref__\n",
      " |      list of weak references to the object (if defined)\n",
      " |  \n",
      " |  alpha_powerlaw\n",
      " |      Stellar mass power-law exponent.\n",
      " |  \n",
      " |  ism_metallicity_today\n",
      " |      ISM metals mass fraction at present.\n",
      " |  \n",
      " |  ----------------------------------------------------------------------\n",
      " |  Methods inherited from ChemicalEvolutionModel:\n",
      " |  \n",
      " |  compute_SED(self, ssp: pst.SSP.SSPBase, t_obs: astropy.units.quantity.Quantity, allow_negative=False)\n",
      " |      Compute the Spectral Energy Distribution (SED) resulting from the SFH.\n",
      " |      \n",
      " |      This method synthesizes the SED resulting from the chemical evolution model,\n",
      " |      observed at a given time, using the provided SSP model.\n",
      " |      \n",
      " |      Parameters\n",
      " |      ----------\n",
      " |      SSP : pst.SSP.SSPBase\n",
      " |          The Simple Stellar Population (SSP) model used for synthesizing the SED.\n",
      " |      t_obs : astropy.Quantity\n",
      " |          The cosmic time at which the galaxy is observed.\n",
      " |      allow_negative : bool, optional\n",
      " |          Whether to allow SSPs with negative masses in the SED computation.\n",
      " |          Default is True.\n",
      " |      \n",
      " |      Returns\n",
      " |      -------\n",
      " |      sed : astropy.Quantity\n",
      " |          The spectral energy distribution, in the same units as `SSP.L_lambda`.\n",
      " |      \n",
      " |      See also\n",
      " |      --------\n",
      " |      :func:`interpolate_ssp_masses`\n",
      " |  \n",
      " |  compute_photometry(self, ssp, t_obs, photometry=None)\n",
      " |      Compute the syntehtic photometry using a SSP at a given time.\n",
      " |      \n",
      " |      This method computes the photometric fluxes associated to\n",
      " |      the SFH by synthesizing the fluxes of the input SSP model.\n",
      " |      the galaxy using the input SSP model and optionally  \n",
      " |      photometric filters.\n",
      " |      \n",
      " |      Parameters\n",
      " |      ----------\n",
      " |      ssp : pst.SSP.SSPBase\n",
      " |          The Simple Stellar Population (SSP) model used for generating the\n",
      " |          synthetic photometry.\n",
      " |      t_obs : astropy.Quantity\n",
      " |          The cosmic time at which the galaxy is observed.\n",
      " |      photometry : np.ndarray, optional\n",
      " |          A grid of luminosities in multiple photometric bands. If None, the \n",
      " |          default SSP photometry will be used. The last two dimensions must \n",
      " |          match the metallicity and age grid of the SSP model.\n",
      " |      \n",
      " |      Returns\n",
      " |      -------\n",
      " |      model_photometry : astropy.Quantity\n",
      " |          The photometry of the galaxy in the same units as the input photometry.\n",
      " |  \n",
      " |  interpolate_ssp_masses(self, ssp: pst.SSP.SSPBase, t_obs: Unit(\"Gyr\"), oversample_factor=10)\n",
      " |      Interpolate the star formation history to compute the SSP stellar masses.\n",
      " |      \n",
      " |      This method computes the star formation history of a galaxy over time\n",
      " |      and uses it to interpolate the stellar masses for a given Simple Stellar\n",
      " |      Population (SSP) model at the time of observation.\n",
      " |      \n",
      " |      Parameters\n",
      " |      ----------\n",
      " |      SSP : pst.SSP.SSPBase\n",
      " |          The Simple Stellar Population (SSP) model used for synthesizing the SED.\n",
      " |      t_obs : astropy.Quantity\n",
      " |          The cosmic time at which the galaxy is observed. Only SSPs with ages\n",
      " |          younger than `t_obs` are used.\n",
      " |      oversample_factor : int\n",
      " |          Ages oversampling factor. \n",
      " |      \n",
      " |      Returns\n",
      " |      -------\n",
      " |      weights : astropy.Quantity\n",
      " |          Stellar masses corresponding to each SSP age and metallicity, in units\n",
      " |          of solar masses.\n",
      "\n"
     ]
    }
   ],
   "source": [
    "help(models.LogNormalQuenchedCEM)"
   ]
  },
  {
   "cell_type": "markdown",
   "id": "01c2af08-57ad-4fa8-a44f-777f2bac4e2e",
   "metadata": {},
   "source": [
    "First, we set the model parameters"
   ]
  },
  {
   "cell_type": "code",
   "execution_count": 4,
   "id": "dc9fbc91-da50-40b8-992b-3337e56eb98d",
   "metadata": {},
   "outputs": [],
   "source": [
    "today = 13 << u.Gyr\n",
    "mass_today = 1e11 << u.Msun\n",
    "ism_metallicity_today = 0.02 << u.dimensionless_unscaled\n",
    "alpha_powerlaw = 1.5\n",
    "t0 = 7.0 << u.Gyr\n",
    "scale = 2.0\n",
    "quenching_time = 10 << u.Gyr\n",
    "today = 13.7 << u.Gyr"
   ]
  },
  {
   "cell_type": "markdown",
   "id": "66949ae8-d6e1-4a64-82f0-c7340bcf9831",
   "metadata": {},
   "source": [
    "and then instantiate the class"
   ]
  },
  {
   "cell_type": "code",
   "execution_count": 5,
   "id": "1b80ee87-53d4-4499-a667-0b4356204ef7",
   "metadata": {},
   "outputs": [
    {
     "ename": "KeyError",
     "evalue": "'today'",
     "output_type": "error",
     "traceback": [
      "\u001b[0;31m---------------------------------------------------------------------------\u001b[0m",
      "\u001b[0;31mKeyError\u001b[0m                                  Traceback (most recent call last)",
      "Cell \u001b[0;32mIn[5], line 1\u001b[0m\n\u001b[0;32m----> 1\u001b[0m model \u001b[38;5;241m=\u001b[39m models\u001b[38;5;241m.\u001b[39mLogNormalQuenchedCEM(\n\u001b[1;32m      2\u001b[0m     mass_today\u001b[38;5;241m=\u001b[39mmass_today, t0\u001b[38;5;241m=\u001b[39mt0, scale\u001b[38;5;241m=\u001b[39mscale, quenching_time\u001b[38;5;241m=\u001b[39mquenching_time,\n\u001b[1;32m      3\u001b[0m     alpha_powerlaw\u001b[38;5;241m=\u001b[39malpha_powerlaw, ism_metallicity_today\u001b[38;5;241m=\u001b[39mism_metallicity_today,\n\u001b[1;32m      4\u001b[0m )\n",
      "File \u001b[0;32m~/Develop/population-synthesis-toolkit/src/pst/models.py:437\u001b[0m, in \u001b[0;36mLogNormalQuenchedCEM.__init__\u001b[0;34m(self, **kwargs)\u001b[0m\n\u001b[1;32m    436\u001b[0m \u001b[38;5;28;01mdef\u001b[39;00m \u001b[38;5;21m__init__\u001b[39m(\u001b[38;5;28mself\u001b[39m, \u001b[38;5;241m*\u001b[39m\u001b[38;5;241m*\u001b[39mkwargs):\n\u001b[0;32m--> 437\u001b[0m     \u001b[38;5;28msuper\u001b[39m()\u001b[38;5;241m.\u001b[39m\u001b[38;5;21m__init__\u001b[39m(\u001b[38;5;241m*\u001b[39m\u001b[38;5;241m*\u001b[39mkwargs)\n\u001b[1;32m    438\u001b[0m     \u001b[38;5;28mself\u001b[39m\u001b[38;5;241m.\u001b[39mquenching_time \u001b[38;5;241m=\u001b[39m kwargs[\u001b[38;5;124m\"\u001b[39m\u001b[38;5;124mquenching_time\u001b[39m\u001b[38;5;124m\"\u001b[39m]\n\u001b[1;32m    439\u001b[0m     mtoday \u001b[38;5;241m=\u001b[39m \u001b[38;5;28mself\u001b[39m\u001b[38;5;241m.\u001b[39mstellar_mass_formed(\u001b[38;5;28mself\u001b[39m\u001b[38;5;241m.\u001b[39mtoday)\n",
      "File \u001b[0;32m~/Develop/population-synthesis-toolkit/src/pst/models.py:428\u001b[0m, in \u001b[0;36mLogNormalZPowerLawCEM.__init__\u001b[0;34m(self, **kwargs)\u001b[0m\n\u001b[1;32m    427\u001b[0m \u001b[38;5;28;01mdef\u001b[39;00m \u001b[38;5;21m__init__\u001b[39m(\u001b[38;5;28mself\u001b[39m, \u001b[38;5;241m*\u001b[39m\u001b[38;5;241m*\u001b[39mkwargs):\n\u001b[0;32m--> 428\u001b[0m     \u001b[38;5;28msuper\u001b[39m()\u001b[38;5;241m.\u001b[39m\u001b[38;5;21m__init__\u001b[39m(\u001b[38;5;241m*\u001b[39m\u001b[38;5;241m*\u001b[39mkwargs)\n\u001b[1;32m    429\u001b[0m     \u001b[38;5;28mself\u001b[39m\u001b[38;5;241m.\u001b[39mism_metallicity_today \u001b[38;5;241m=\u001b[39m kwargs[\u001b[38;5;124m\"\u001b[39m\u001b[38;5;124mism_metallicity_today\u001b[39m\u001b[38;5;124m\"\u001b[39m]\n\u001b[1;32m    430\u001b[0m     \u001b[38;5;28mself\u001b[39m\u001b[38;5;241m.\u001b[39malpha_powerlaw \u001b[38;5;241m=\u001b[39m kwargs[\u001b[38;5;124m\"\u001b[39m\u001b[38;5;124malpha_powerlaw\u001b[39m\u001b[38;5;124m\"\u001b[39m]\n",
      "File \u001b[0;32m~/Develop/population-synthesis-toolkit/src/pst/models.py:401\u001b[0m, in \u001b[0;36mLogNormalCEM.__init__\u001b[0;34m(self, **kwargs)\u001b[0m\n\u001b[1;32m    399\u001b[0m \u001b[38;5;28mself\u001b[39m\u001b[38;5;241m.\u001b[39mt0 \u001b[38;5;241m=\u001b[39m kwargs[\u001b[38;5;124m'\u001b[39m\u001b[38;5;124mt0\u001b[39m\u001b[38;5;124m'\u001b[39m]\n\u001b[1;32m    400\u001b[0m \u001b[38;5;28mself\u001b[39m\u001b[38;5;241m.\u001b[39mscale \u001b[38;5;241m=\u001b[39m kwargs[\u001b[38;5;124m'\u001b[39m\u001b[38;5;124mscale\u001b[39m\u001b[38;5;124m'\u001b[39m]\n\u001b[0;32m--> 401\u001b[0m \u001b[38;5;28mself\u001b[39m\u001b[38;5;241m.\u001b[39mtoday \u001b[38;5;241m=\u001b[39m check_unit(kwargs[\u001b[38;5;124m'\u001b[39m\u001b[38;5;124mtoday\u001b[39m\u001b[38;5;124m'\u001b[39m], u\u001b[38;5;241m.\u001b[39mGyr)\n\u001b[1;32m    402\u001b[0m \u001b[38;5;28mself\u001b[39m\u001b[38;5;241m.\u001b[39mmass_today \u001b[38;5;241m=\u001b[39m check_unit(kwargs[\u001b[38;5;124m'\u001b[39m\u001b[38;5;124mmass_today\u001b[39m\u001b[38;5;124m'\u001b[39m], u\u001b[38;5;241m.\u001b[39mMsun)\n\u001b[1;32m    404\u001b[0m \u001b[38;5;28mself\u001b[39m\u001b[38;5;241m.\u001b[39mmass_norm \u001b[38;5;241m=\u001b[39m \u001b[38;5;241m1\u001b[39m\n",
      "\u001b[0;31mKeyError\u001b[0m: 'today'"
     ]
    }
   ],
   "source": [
    "model = models.LogNormalQuenchedCEM(\n",
    "    mass_today=mass_today, t0=t0, scale=scale, quenching_time=quenching_time,\n",
    "    alpha_powerlaw=alpha_powerlaw, ism_metallicity_today=ism_metallicity_today,\n",
    ")"
   ]
  },
  {
   "cell_type": "markdown",
   "id": "98e9572a",
   "metadata": {},
   "source": [
    "To inspect our model, let's define an array of times and plot the mass formation and chemical enrichment histories"
   ]
  },
  {
   "cell_type": "code",
   "execution_count": null,
   "id": "131ff42d",
   "metadata": {},
   "outputs": [
    {
     "data": {
      "text/plain": [
       "<matplotlib.legend.Legend at 0x7f37c7af9460>"
      ]
     },
     "execution_count": 27,
     "metadata": {},
     "output_type": "execute_result"
    },
    {
     "data": {
      "image/png": "[encoded data removed]",
      "text/plain": [
       "<Figure size 640x480 with 2 Axes>"
      ]
     },
     "metadata": {},
     "output_type": "display_data"
    }
   ],
   "source": [
    "cosmic_time = np.geomspace(1e-4, 1, 300) * today\n",
    "\n",
    "fig, axes = plt.subplots(nrows=2, sharex=True)\n",
    "fig.suptitle(\"Log-normal SFH with a quenching event\")\n",
    "fig.supxlabel(f\"cosmic time ({cosmic_time.unit})\")\n",
    "\n",
    "ax = axes[0]\n",
    "ax.set_ylabel(r\"stellar mass (M$_\\odot$)\")\n",
    "ax.set_yscale('log')\n",
    "ax.plot(cosmic_time, model.stellar_mass_formed(cosmic_time), '.-')\n",
    "\n",
    "ax = axes[1]\n",
    "ax.set_ylabel(r\"Z\")\n",
    "ax.set_yscale('log')\n",
    "ax.plot(cosmic_time, model.ism_metallicity(cosmic_time), '.-')\n",
    "\n",
    "for ax in axes:\n",
    "    ax.axvline(quenching_time.to_value(cosmic_time.unit), color='r', label=\"Quenching event\")\n",
    "\n",
    "ax.legend()"
   ]
  },
  {
   "cell_type": "markdown",
   "id": "a6a531e9-4bad-456e-bc54-b2615cb3d48e",
   "metadata": {},
   "source": [
    "## Spectral Energy Distribution"
   ]
  },
  {
   "cell_type": "code",
   "execution_count": null,
   "id": "656d3306",
   "metadata": {},
   "outputs": [
    {
     "name": "stdout",
     "output_type": "stream",
     "text": [
      "> Initialising Popstar models (IMF='cha')\n",
      "--> Only stellar continuum\n",
      "[SSP] Models cut between 3000.0 Angstrom 9000.0 Angstrom\n"
     ]
    }
   ],
   "source": [
    "ssp = PopStar(IMF='cha')\n",
    "ssp.cut_wavelength(3000, 9000)"
   ]
  },
  {
   "cell_type": "markdown",
   "id": "ae7cd26f",
   "metadata": {},
   "source": [
    "Interpolate the CEM to the SSP ages and metallicities"
   ]
  },
  {
   "cell_type": "code",
   "execution_count": null,
   "id": "f3231653-6673-4b96-925c-a43f32803d67",
   "metadata": {},
   "outputs": [],
   "source": [
    "ssp_weights = model.interpolate_ssp_masses(ssp, t_obs=today)"
   ]
  },
  {
   "cell_type": "code",
   "execution_count": null,
   "id": "e9c5e622-6dc1-45ee-b80a-b281a8dcfc54",
   "metadata": {},
   "outputs": [
    {
     "data": {
      "image/png": "[encoded data removed]",
      "text/plain": [
       "<Figure size 640x480 with 1 Axes>"
      ]
     },
     "metadata": {},
     "output_type": "display_data"
    }
   ],
   "source": [
    "fig = plt.figure()\n",
    "ax = fig.add_subplot(111)\n",
    "ax.set_title(f'Mass associated to each SSP')\n",
    "ax.set_xlabel('age [Gyr]')\n",
    "ax.set_ylabel('metallicity Z')\n",
    "ax.set_yscale('log')\n",
    "ax.set_ylim(5e-5, 0.05)\n",
    "\n",
    "mappable = ax.pcolormesh(ssp.ages.to_value(\"Gyr\"), ssp.metallicities, ssp_weights, norm=LogNorm())\n",
    "\n",
    "#plt.colorbar(mappable, ax=ax, label=r\"SSP mass (M$_\\odot$)\")"
   ]
  },
  {
   "cell_type": "code",
   "execution_count": null,
   "id": "1d035a95-dcae-4a49-bb37-2c172dfe6f06",
   "metadata": {},
   "outputs": [
    {
     "data": {
      "text/latex": [
       "$0 \\; \\mathrm{M_{\\odot}}$"
      ],
      "text/plain": [
       "<Quantity 0. solMass>"
      ]
     },
     "execution_count": 33,
     "metadata": {},
     "output_type": "execute_result"
    }
   ],
   "source": [
    "np.max(ssp_weights)"
   ]
  },
  {
   "cell_type": "markdown",
   "id": "f1e6080b",
   "metadata": {},
   "source": [
    "Finally, generate the associated spectrum"
   ]
  },
  {
   "cell_type": "code",
   "execution_count": null,
   "id": "a4b1dd2d",
   "metadata": {},
   "outputs": [
    {
     "data": {
      "text/plain": [
       "[<matplotlib.lines.Line2D at 0x7f37c193d6d0>]"
      ]
     },
     "execution_count": 35,
     "metadata": {},
     "output_type": "execute_result"
    },
    {
     "data": {
      "image/png": "[encoded data removed]",
      "text/plain": [
       "<Figure size 640x480 with 1 Axes>"
      ]
     },
     "metadata": {},
     "output_type": "display_data"
    }
   ],
   "source": [
    "sed = model.compute_SED(ssp, t_obs=today)\n",
    "\n",
    "fig = plt.figure()\n",
    "ax = fig.add_subplot(111)\n",
    "ax.set_title('Spectral Energy Distribution')\n",
    "ax.set_xlabel(r\"$\\lambda$ \" + f\"({ssp.wavelength.unit})\")\n",
    "ax.set_ylabel(r\"$L_\\lambda$ \" + f\"({sed.unit})\")\n",
    "\n",
    "ax.plot(ssp.wavelength, sed)"
   ]
  },
  {
   "cell_type": "code",
   "execution_count": null,
   "id": "21a1fcf8-9faf-4339-b272-ccf636d3de49",
   "metadata": {},
   "outputs": [],
   "source": []
  }
 ],
 "metadata": {
  "kernelspec": {
   "display_name": "base",
   "language": "python",
   "name": "python3"
  },
  "language_info": {
   "codemirror_mode": {
    "name": "ipython",
    "version": 3
   },
   "file_extension": ".py",
   "mimetype": "text/x-python",
   "name": "python",
   "nbconvert_exporter": "python",
   "pygments_lexer": "ipython3",
   "version": "3.11.5"
  }
 },
 "nbformat": 4,
 "nbformat_minor": 5
}
