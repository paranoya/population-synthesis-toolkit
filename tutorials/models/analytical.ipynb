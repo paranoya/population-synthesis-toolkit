{
 "cells": [
  {
   "cell_type": "markdown",
   "id": "61f042d2",
   "metadata": {},
   "source": [
    "# Analytical Chemical Evolution Models\n",
    "\n",
    "In this tutorial we are going to create a Chemical Evolution Model based on an analytical expression for the Mass/Star Formation History and the Chemical Enrichemt History."
   ]
  },
  {
   "cell_type": "markdown",
   "id": "1eafad0f",
   "metadata": {},
   "source": [
    "Import the required moduels for running this tutorial"
   ]
  },
  {
   "cell_type": "code",
   "execution_count": null,
   "id": "749e02d8",
   "metadata": {},
   "outputs": [],
   "source": [
    "import numpy as np\n",
    "import matplotlib.pyplot as plt\n",
    "from matplotlib.colors import LogNorm\n",
    "\n",
    "from pst.SSP import PopStar\n",
    "from pst import models\n",
    "from astropy import units as u"
   ]
  },
  {
   "cell_type": "markdown",
   "id": "01c235f4-defe-4216-b088-c006fcf06b12",
   "metadata": {},
   "source": [
    "Good for debugging:"
   ]
  },
  {
   "cell_type": "code",
   "execution_count": null,
   "id": "d8548cb8-aa6c-4104-9ec7-984be81b7f6e",
   "metadata": {},
   "outputs": [],
   "source": [
    "%load_ext autoreload\n",
    "%autoreload 2"
   ]
  },
  {
   "cell_type": "markdown",
   "id": "e7146155",
   "metadata": {},
   "source": [
    "## Chemical Evolution Model"
   ]
  },
  {
   "cell_type": "markdown",
   "id": "29d1293d-0612-4c21-adcf-21b7fece9d73",
   "metadata": {},
   "source": [
    "List the basic models:"
   ]
  },
  {
   "cell_type": "code",
   "execution_count": null,
   "id": "efa2dde3-21a0-4e84-bfea-be7af3a0946a",
   "metadata": {},
   "outputs": [],
   "source": [
    "models.ChemicalEvolutionModel.__subclasses__()"
   ]
  },
  {
   "cell_type": "markdown",
   "id": "0b9aa9d9-9487-4831-9a96-a237b7cd550b",
   "metadata": {},
   "source": [
    "As their names suggest, many of them are based on simple analytical functions.\n",
    "Let us consider a slightly more complex model: a log-normal star formation history, quenched at $t=10$ Gyr, with a power-law metallicity evolution."
   ]
  },
  {
   "cell_type": "code",
   "execution_count": null,
   "id": "03a978a0-791d-4cd9-8dcb-0223f9a9f73c",
   "metadata": {},
   "outputs": [],
   "source": [
    "help(models.LogNormalQuenchedCEM)"
   ]
  },
  {
   "cell_type": "markdown",
   "id": "01c2af08-57ad-4fa8-a44f-777f2bac4e2e",
   "metadata": {},
   "source": [
    "First, we set the model parameters"
   ]
  },
  {
   "cell_type": "code",
   "execution_count": null,
   "id": "dc9fbc91-da50-40b8-992b-3337e56eb98d",
   "metadata": {},
   "outputs": [],
   "source": [
    "today = 13 << u.Gyr\n",
    "mass_today = 1e11 << u.Msun\n",
    "ism_metallicity_today = 0.02 << u.dimensionless_unscaled\n",
    "alpha_powerlaw = 1.5\n",
    "t0 = 20.0 << u.Gyr\n",
    "scale = 2.0\n",
    "quenching_time = 10 << u.Gyr\n",
    "today = 13.7 << u.Gyr"
   ]
  },
  {
   "cell_type": "markdown",
   "id": "66949ae8-d6e1-4a64-82f0-c7340bcf9831",
   "metadata": {},
   "source": [
    "and then instantiate the class"
   ]
  },
  {
   "cell_type": "code",
   "execution_count": null,
   "id": "1b80ee87-53d4-4499-a667-0b4356204ef7",
   "metadata": {},
   "outputs": [],
   "source": [
    "model = models.LogNormalQuenchedCEM(\n",
    "#model = models.LogNormalCEM(\n",
    "    today=today,\n",
    "    mass_today=mass_today, t0=t0, scale=scale, quenching_time=quenching_time,\n",
    "    ism_metallicity_today=ism_metallicity_today, alpha_powerlaw=alpha_powerlaw,\n",
    ")"
   ]
  },
  {
   "cell_type": "markdown",
   "id": "98e9572a",
   "metadata": {},
   "source": [
    "To inspect our model, let's define an array of times and plot the mass formation and chemical enrichment histories"
   ]
  },
  {
   "cell_type": "code",
   "execution_count": null,
   "id": "131ff42d",
   "metadata": {},
   "outputs": [],
   "source": [
    "cosmic_time = np.geomspace(1e-4, 1, 300) * today\n",
    "mfh = model.stellar_mass_formed(cosmic_time)\n",
    "sfr = np.diff(mfh) / np.diff(cosmic_time)\n",
    "t_sfr = (cosmic_time[1:] + cosmic_time[:-1]) / 2\n",
    "\n",
    "fig, axes = plt.subplots(nrows=3, sharex=True)\n",
    "fig.suptitle(\"Log-normal SFH with a quenching event\")\n",
    "fig.supxlabel(f\"cosmic time ({cosmic_time.unit})\")\n",
    "\n",
    "ax = axes[0]\n",
    "ax.set_ylabel(r\"stellar mass (M$_\\odot$)\")\n",
    "ax.set_yscale('log')\n",
    "ax.plot(cosmic_time, mfh.to_value(u.Msun), '.-')\n",
    "\n",
    "ax = axes[1]\n",
    "ax.set_ylabel(r\"SFR (M$_\\odot$/yr)\")\n",
    "ax.set_yscale('log')\n",
    "ax.plot(t_sfr, sfr.to_value(u.Msun/u.yr), '.-')\n",
    "\n",
    "ax = axes[2]\n",
    "ax.set_ylabel(r\"Z\")\n",
    "ax.set_yscale('log')\n",
    "ax.plot(cosmic_time, model.ism_metallicity(cosmic_time), '.-')\n",
    "\n",
    "for ax in axes:\n",
    "    ax.axvline(quenching_time.to_value(cosmic_time.unit), color='r', label=\"Quenching event\")\n",
    "\n",
    "ax.legend()"
   ]
  },
  {
   "cell_type": "markdown",
   "id": "a6a531e9-4bad-456e-bc54-b2615cb3d48e",
   "metadata": {},
   "source": [
    "## Spectral Energy Distribution"
   ]
  },
  {
   "cell_type": "code",
   "execution_count": null,
   "id": "656d3306",
   "metadata": {},
   "outputs": [],
   "source": [
    "ssp = PopStar(IMF='cha')\n",
    "ssp.cut_wavelength(3000, 9000)"
   ]
  },
  {
   "cell_type": "markdown",
   "id": "ae7cd26f",
   "metadata": {},
   "source": [
    "Interpolate the CEM to the SSP ages and metallicities"
   ]
  },
  {
   "cell_type": "code",
   "execution_count": null,
   "id": "f3231653-6673-4b96-925c-a43f32803d67",
   "metadata": {},
   "outputs": [],
   "source": [
    "ssp_weights = model.interpolate_ssp_masses(ssp, t_obs=today)"
   ]
  },
  {
   "cell_type": "code",
   "execution_count": null,
   "id": "e9c5e622-6dc1-45ee-b80a-b281a8dcfc54",
   "metadata": {},
   "outputs": [],
   "source": [
    "fig = plt.figure()\n",
    "ax = fig.add_subplot(111)\n",
    "ax.set_title(f'Mass associated to each SSP')\n",
    "ax.set_xlabel('age [Gyr]')\n",
    "ax.set_ylabel('metallicity Z')\n",
    "ax.set_yscale('log')\n",
    "ax.set_ylim(5e-5, 0.05)\n",
    "\n",
    "mappable = ax.pcolormesh(ssp.ages.to_value(\"Gyr\"), ssp.metallicities, ssp_weights.to_value(u.Msun), norm=LogNorm())\n",
    "\n",
    "plt.colorbar(mappable, ax=ax, label=r\"SSP mass (M$_\\odot$)\")\n",
    "\n",
    "ax.plot(today-cosmic_time, model.ism_metallicity(cosmic_time), 'k-', alpha=.5)\n"
   ]
  },
  {
   "cell_type": "markdown",
   "id": "f1e6080b",
   "metadata": {},
   "source": [
    "Finally, generate the associated spectrum"
   ]
  },
  {
   "cell_type": "code",
   "execution_count": null,
   "id": "a4b1dd2d",
   "metadata": {},
   "outputs": [],
   "source": [
    "sed = model.compute_SED(ssp, t_obs=today)\n",
    "\n",
    "fig = plt.figure()\n",
    "ax = fig.add_subplot(111)\n",
    "ax.set_title('Spectral Energy Distribution')\n",
    "ax.set_xlabel(r\"$\\lambda$ \" + f\"({ssp.wavelength.unit})\")\n",
    "ax.set_ylabel(r\"$L_\\lambda$ \" + f\"({sed.unit})\")\n",
    "\n",
    "ax.plot(ssp.wavelength, sed)"
   ]
  }
 ],
 "metadata": {
  "kernelspec": {
   "display_name": "base",
   "language": "python",
   "name": "python3"
  },
  "language_info": {
   "codemirror_mode": {
    "name": "ipython",
    "version": 3
   },
   "file_extension": ".py",
   "mimetype": "text/x-python",
   "name": "python",
   "nbconvert_exporter": "python",
   "pygments_lexer": "ipython3",
   "version": "3.11.5"
  }
 },
 "nbformat": 4,
 "nbformat_minor": 5
}
