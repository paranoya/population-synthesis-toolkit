{
 "cells": [
  {
   "cell_type": "markdown",
   "id": "61f042d2",
   "metadata": {},
   "source": [
    "# Creating a ParticleListCEM\n",
    "\n",
    "In this tutorial we are going to create a Chemical Evolution Model from a set of individual simple stellar populations (referred to as \"particles\"). This is a common way of producing synthetic observations from cosmological hydrodynamical simulations.\n",
    "\n",
    "For that purpose, PST provides the `ParticleListCEM` class. The three input arguments required for creating the model are the following:\n",
    "\n",
    "- `time_form`: cosmic time when each particle was formed\n",
    "- `metallicities`: metallicity of the particles\n",
    "- `masses`: stellar mass of the particles\n"
   ]
  },
  {
   "cell_type": "markdown",
   "id": "1eafad0f",
   "metadata": {},
   "source": [
    "Import the required moduels for running this tutorial"
   ]
  },
  {
   "cell_type": "code",
   "execution_count": null,
   "id": "749e02d8",
   "metadata": {},
   "outputs": [],
   "source": [
    "import numpy as np\n",
    "import matplotlib.pyplot as plt\n",
    "from matplotlib.colors import LogNorm\n",
    "\n",
    "from pst.SSP import PopStar\n",
    "from pst import models\n",
    "from astropy import units as u"
   ]
  },
  {
   "cell_type": "markdown",
   "id": "d83e035e",
   "metadata": {},
   "source": [
    "## Stellar particles\n",
    "\n",
    "Let's start by creating some mock particle data"
   ]
  },
  {
   "cell_type": "code",
   "execution_count": null,
   "id": "6ed26c77",
   "metadata": {},
   "outputs": [],
   "source": [
    "np.random.seed(50)\n",
    "\n",
    "# Number of particles\n",
    "n_particles = 10000\n",
    "today = 13.7 << u.Gyr\n",
    "mass_formation_slope = .25\n",
    "metallicity_today = 0.02\n",
    "metallicity_slope = 4\n",
    "metallicity_scatter = .4\n",
    "\n",
    "# Randmonly sample the properties of each particle\n",
    "particles_mass = 10**(np.random.uniform(5, 6, n_particles)) << u.Msun\n",
    "particles_t_form = np.random.uniform(0, 1, n_particles)\n",
    "particles_z = metallicity_today * np.power(particles_t_form, metallicity_slope)\n",
    "particles_z *= np.random.lognormal(mean=0, sigma=metallicity_scatter, size=n_particles)\n",
    "particles_t_form = today * np.power(particles_t_form, 1/mass_formation_slope)"
   ]
  },
  {
   "cell_type": "code",
   "execution_count": null,
   "id": "4eb2f31f",
   "metadata": {},
   "outputs": [],
   "source": [
    "fig, ax = plt.subplots()\n",
    "\n",
    "ax.set_title('Stellar \"particles\"')\n",
    "ax.set_xlabel(\"cosmic time (Gyr)\")\n",
    "ax.set_ylabel('metallicity Z')\n",
    "\n",
    "mappable = ax.scatter(particles_t_form.to_value(u.Gyr), particles_z,\n",
    "                      s=1, c=particles_mass.to_value(u.Msun), norm=LogNorm())\n",
    "\n",
    "plt.colorbar(mappable, ax=ax, label=\"particle mass\")"
   ]
  },
  {
   "cell_type": "markdown",
   "id": "e7146155",
   "metadata": {},
   "source": [
    "## Chemical Evolution Model"
   ]
  },
  {
   "cell_type": "code",
   "execution_count": null,
   "id": "0ed93315",
   "metadata": {},
   "outputs": [],
   "source": [
    "sfh_model = models.ParticleListCEM(time_form=particles_t_form, metallicities=particles_z, masses=particles_mass)"
   ]
  },
  {
   "cell_type": "markdown",
   "id": "98e9572a",
   "metadata": {},
   "source": [
    "To evaluate our model, let's define an array of times"
   ]
  },
  {
   "cell_type": "code",
   "execution_count": null,
   "id": "131ff42d",
   "metadata": {},
   "outputs": [],
   "source": [
    "cosmic_time = np.geomspace(1e-4, 1, 300) * today\n",
    "mass_history = sfh_model.stellar_mass_formed(cosmic_time)\n",
    "\n",
    "fig = plt.figure()\n",
    "ax = fig.add_subplot(111)\n",
    "ax.set_title('Mass formation history')\n",
    "ax.set_xlabel(\"cosmic time (Gyr)\")\n",
    "ax.set_ylabel(r\"stellar mass (M$_\\odot$)\")\n",
    "\n",
    "ax.plot(cosmic_time, mass_history, '.-')"
   ]
  },
  {
   "cell_type": "markdown",
   "id": "a6a531e9-4bad-456e-bc54-b2615cb3d48e",
   "metadata": {},
   "source": [
    "## Spectral Energy Distribution"
   ]
  },
  {
   "cell_type": "code",
   "execution_count": null,
   "id": "656d3306",
   "metadata": {},
   "outputs": [],
   "source": [
    "ssp = PopStar(IMF='cha')\n",
    "ssp.cut_wavelength(3000, 9000)"
   ]
  },
  {
   "cell_type": "markdown",
   "id": "ae7cd26f",
   "metadata": {},
   "source": [
    "Interpolate the CEM to the SSP ages and metallicities"
   ]
  },
  {
   "cell_type": "code",
   "execution_count": null,
   "id": "8d01874b",
   "metadata": {},
   "outputs": [],
   "source": [
    "ssp_weights = sfh_model.interpolate_ssp_masses(ssp, t_obs=today)\n",
    "\n",
    "fig = plt.figure()\n",
    "ax = fig.add_subplot(111)\n",
    "ax.set_title(f'Mass associated to each SSP')\n",
    "ax.set_xlabel('age [Gyr]')\n",
    "ax.set_ylabel('metallicity Z')\n",
    "ax.set_yscale('log')\n",
    "ax.set_ylim(5e-5, 0.05)\n",
    "\n",
    "mappable = ax.pcolormesh(ssp.ages.to_value(\"Gyr\"), ssp.metallicities.value,\n",
    "                         ssp_weights.value, norm=LogNorm())\n",
    "ax.plot((today - particles_t_form).to_value(u.Gyr), particles_z,\n",
    "        'k,', alpha=.25)\n",
    "\n",
    "plt.colorbar(mappable, ax=ax, label=r\"SSP mass (M$_\\odot$)\")"
   ]
  },
  {
   "cell_type": "markdown",
   "id": "f1e6080b",
   "metadata": {},
   "source": [
    "Finally, generate the associated spectrum"
   ]
  },
  {
   "cell_type": "code",
   "execution_count": null,
   "id": "a4b1dd2d",
   "metadata": {},
   "outputs": [],
   "source": [
    "sed = sfh_model.compute_SED(ssp, t_obs=today)\n",
    "\n",
    "fig = plt.figure()\n",
    "ax = fig.add_subplot(111)\n",
    "ax.set_title('Spectral Energy Distribution')\n",
    "ax.set_xlabel(r\"$\\lambda$ \" + f\"({ssp.wavelength.unit})\")\n",
    "ax.set_ylabel(r\"$L_\\lambda$ \" + f\"({sed.unit})\")\n",
    "\n",
    "ax.loglog(ssp.wavelength, sed)"
   ]
  },
  {
   "cell_type": "code",
   "execution_count": null,
   "id": "f0066002-328d-4655-8108-6c8fb3ed0744",
   "metadata": {},
   "outputs": [],
   "source": []
  }
 ],
 "metadata": {
  "kernelspec": {
   "display_name": "base",
   "language": "python",
   "name": "python3"
  },
  "language_info": {
   "codemirror_mode": {
    "name": "ipython",
    "version": 3
   },
   "file_extension": ".py",
   "mimetype": "text/x-python",
   "name": "python",
   "nbconvert_exporter": "python",
   "pygments_lexer": "ipython3",
   "version": "3.11.5"
  }
 },
 "nbformat": 4,
 "nbformat_minor": 5
}
