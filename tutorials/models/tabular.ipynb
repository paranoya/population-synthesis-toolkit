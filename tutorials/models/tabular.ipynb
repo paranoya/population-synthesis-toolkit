{
 "cells": [
  {
   "cell_type": "markdown",
   "id": "51e80993",
   "metadata": {},
   "source": [
    "# Resolution effects on TabularCEM\n",
    " \n",
    " The Chemical Evolution Model ``TabularCEM`` is meant to build models from tabulated data, allowing a much more flexible characterization of the evolution of galaxies in comparison with other analytic methods (e.g. log-normal SFH). The downside of tabulated star formation histories is that they rely on interpolation methods to perform the synthesis of multiple simple stellar populations.\n",
    " \n",
    "In this tutorial, we explore the systematic effects of undersampling an analytic exponentially declining star formation history with a simple metal enrichment model.\n",
    "\n",
    "- First, we compare the results of two ``TabularCEM``, sampled with different time resolutions, in terms of the predicted stellar mass and ISM metallicity function of time.\n",
    "- Then, we use a SSP model to produce the spectral energy distribution of both CEM and explore the differences.\n"
   ]
  },
  {
   "cell_type": "code",
   "execution_count": null,
   "id": "c39cdc62",
   "metadata": {},
   "outputs": [],
   "source": [
    "import numpy as np\n",
    "import matplotlib.pyplot as plt\n",
    "\n",
    "from pst.SSP import PopStar\n",
    "from pst import models\n",
    "from astropy import units as u"
   ]
  },
  {
   "cell_type": "markdown",
   "id": "8922f9ca",
   "metadata": {},
   "source": [
    "First, we create our analytic prescription of the SFH and the metal enrichment as function of time"
   ]
  },
  {
   "cell_type": "code",
   "execution_count": null,
   "id": "f01d8b96",
   "metadata": {},
   "outputs": [],
   "source": [
    "def exponential_sfh(time, tau):\n",
    "    \"\"\"Exponential declining SFH normalized to 1 Msun.\"\"\"\n",
    "    m =  (1 - np.exp(-time / tau)) \n",
    "    m /= m[-1]\n",
    "    return m * u.Msun\n",
    "\n",
    "def z_ism(time, alpha, z_0, t_0):\n",
    "    \"\"\"ISM metallicity history\"\"\"\n",
    "    z = z_0 * (1 - np.power((time + t_0)/ t_0, alpha))\n",
    "    return z * u.dimensionless_unscaled"
   ]
  },
  {
   "cell_type": "markdown",
   "id": "fc49b2c5",
   "metadata": {},
   "source": [
    "Then, we will sample these function using a dense and coarse grid of time bins spaced logarithmically"
   ]
  },
  {
   "cell_type": "code",
   "execution_count": null,
   "id": "ab42a6b5",
   "metadata": {},
   "outputs": [],
   "source": [
    "# Dense\n",
    "lbtime = np.geomspace(1e-3, 13.7, 300) * u.Gyr\n",
    "time = 13.7 * u.Gyr - lbtime[::-1]\n",
    "time[-1] = 13.7 * u.Gyr\n",
    "\n",
    "# Coarse\n",
    "lbtime2 = np.geomspace(1e-3, 13.7, 10) * u.Gyr\n",
    "# lbtime2 = np.linspace(0, 1, 15)**2 * 13.7\n",
    "time2 = 13.7 * u.Gyr - lbtime2[::-1]\n",
    "time2[-1] = 13.7 * u.Gyr\n",
    "\n",
    "# Lets create another time bin to fully sample the analytical model\n",
    "dummy_t = np.linspace(0, 13.7, 1000) * u.Gyr"
   ]
  },
  {
   "cell_type": "markdown",
   "id": "772c9f3a",
   "metadata": {},
   "source": [
    "Next, we need to set up the default parameters of our analytical model. This is a critical part, as different values might result on smaller or larger differences in the resulting SED.\n",
    "\n",
    "- ``tau`` determines how fast does the star formation history decline.\n",
    "- ``alpha`` sets how fast does the metallicity evolution reach the saturation value.\n",
    "- ``z_0`` corresponds to the saturation value of the metallicity evolution model.\n",
    "- ``t_0`` sets the turn-off point of the metallicity evolution after which it rapidly saturates.\n",
    "\n",
    "You can explore the effects of changing the default values of these parameters to better comprehend the intrinsic systematics of the model!"
   ]
  },
  {
   "cell_type": "code",
   "execution_count": null,
   "id": "d334bbf0",
   "metadata": {},
   "outputs": [],
   "source": [
    "tau = 30.0 * u.Gyr\n",
    "alpha = -2.0 \n",
    "z_0 = 0.02\n",
    "t_0 = 3.0  * u.Gyr"
   ]
  },
  {
   "cell_type": "markdown",
   "id": "c2e3b48c",
   "metadata": {},
   "source": [
    "Now we can sample the model and create the input quantities for ``TabularCEM``"
   ]
  },
  {
   "cell_type": "code",
   "execution_count": null,
   "id": "7b9c2239",
   "metadata": {},
   "outputs": [],
   "source": [
    "# Dense\n",
    "m1 = exponential_sfh(time, tau)\n",
    "z1 = z_ism(time, alpha, z_0, t_0)\n",
    "\n",
    "# Coarse\n",
    "m2 = exponential_sfh(time2, tau)\n",
    "z2 = z_ism(time2, alpha, z_0, t_0)"
   ]
  },
  {
   "cell_type": "markdown",
   "id": "a6172f4a",
   "metadata": {},
   "source": [
    "Let's plot the points of the analytical model that are sampled on each realization"
   ]
  },
  {
   "cell_type": "code",
   "execution_count": null,
   "id": "2df40f6f",
   "metadata": {
    "scrolled": true
   },
   "outputs": [],
   "source": [
    "fig, axs = plt.subplots(nrows=2, sharex=True, constrained_layout=True)\n",
    "fig.suptitle(\"Input data points for TabularCEM\")\n",
    "ax = axs[0]\n",
    "ax.plot(time, m1, '-+', c=\"b\", label=\"Dense grid\")\n",
    "ax.plot(time2, m2, '-o', c=\"r\", label=\"Coarse grid\")\n",
    "ax.set_ylabel(\"Stellar Mass Formed (Msun)\")\n",
    "\n",
    "ax = axs[1]\n",
    "ax.plot(time, z1, '-+', c=\"b\", label=\"Dense grid\")\n",
    "ax.plot(time2, z2, '-o', c=\"r\", label=\"Coarse grid\")\n",
    "ax.legend()\n",
    "ax.set_ylabel(\"ISM metallicity\")\n",
    "ax.set_xlabel(\"Cosmic time (Gyr)\")\n"
   ]
  },
  {
   "cell_type": "markdown",
   "id": "5a391b1c",
   "metadata": {},
   "source": [
    "Now we can finally initialise the ``TabularCEM`` with both grids"
   ]
  },
  {
   "cell_type": "code",
   "execution_count": null,
   "id": "db3dd7a3",
   "metadata": {},
   "outputs": [],
   "source": [
    "model1 = models.TabularCEM(times=time, masses=m1, metallicities=z1)\n",
    "model2 = models.TabularCEM(times=time2, masses=m2, metallicities=z2)"
   ]
  },
  {
   "cell_type": "markdown",
   "id": "1341fbfc",
   "metadata": {},
   "source": [
    "To check the differences on the interpolation of the tabulated data between the two realizations of ``TabularCEM``, we will evaluate both models using the same grid of cosmic times (``dummy_t``)"
   ]
  },
  {
   "cell_type": "code",
   "execution_count": null,
   "id": "134c0c94",
   "metadata": {
    "scrolled": true
   },
   "outputs": [],
   "source": [
    "fig, axs = plt.subplots(nrows=2, sharex=True, constrained_layout=True)\n",
    "ax = axs[0]\n",
    "ax.plot(dummy_t, model1.stellar_mass_formed(dummy_t), c='b', label=\"Dense model interpolation\")\n",
    "ax.plot(dummy_t, model2.stellar_mass_formed(dummy_t), c='r', label=\"Coarse model interpolation\")\n",
    "ax.plot(time, m1, '+', c='b', label=\"Input Dense model\")\n",
    "ax.plot(time2, m2, 'o', c='r', label=\"Input Coarse model\")\n",
    "ax.set_ylabel(\"Stellar Mass Formed (Msun)\")\n",
    "\n",
    "ax = axs[1]\n",
    "ax.plot(dummy_t, model1.ism_metallicity(dummy_t), c='b', label=\"Dense model interpolation\")\n",
    "ax.plot(dummy_t, model2.ism_metallicity(dummy_t), c='r', label=\"Coarse model interpolation\")\n",
    "ax.plot(time, z1, '+', c='b', label=\"Input Dense model\")\n",
    "ax.plot(time2, z2, 'o', c='r', label=\"Input Coarse model\")\n",
    "ax.legend()\n",
    "ax.set_ylabel(\"ISM metallicity\")\n",
    "ax.set_xlabel(\"Cosmic time (Gyr)\")\n"
   ]
  },
  {
   "cell_type": "markdown",
   "id": "850bebc5",
   "metadata": {},
   "source": [
    "## Effects on the Spectral Energy Distribution\n",
    "\n",
    "In this section we can compare the effects of using different resolutions when producing a ``TabularCEM``\n",
    "\n",
    "First, we need to initialise a SSP model from which we can combine the individual SEDs into a composite spectra."
   ]
  },
  {
   "cell_type": "code",
   "execution_count": null,
   "id": "03c841f2",
   "metadata": {},
   "outputs": [],
   "source": [
    "ssp = PopStar(IMF='cha')\n",
    "ssp.cut_wavelength(3000, 11000)"
   ]
  },
  {
   "cell_type": "markdown",
   "id": "ad848b2b",
   "metadata": {},
   "source": [
    "Now, we chose to produce two spectra observed at present time ($\\sim13.7$ Gyr)"
   ]
  },
  {
   "cell_type": "code",
   "execution_count": null,
   "id": "7171a22e",
   "metadata": {},
   "outputs": [],
   "source": [
    "sed1 = model1.compute_SED(ssp, t_obs=13.7 * u.Gyr)\n",
    "sed2 = model2.compute_SED(ssp, t_obs=13.7 * u.Gyr)"
   ]
  },
  {
   "cell_type": "markdown",
   "id": "68d72096",
   "metadata": {},
   "source": [
    "Finally, we can plot the differences between the two SEDs as function of wavelength"
   ]
  },
  {
   "cell_type": "code",
   "execution_count": null,
   "id": "7251968c",
   "metadata": {},
   "outputs": [],
   "source": [
    "fig, axs = plt.subplots(nrows=2, constrained_layout=True, sharex=True)\n",
    "ax = axs[0]\n",
    "ax.plot(ssp.wavelength, sed1, alpha=0.5, label=\"Dense model\", color='b')\n",
    "ax.plot(ssp.wavelength, sed2, alpha=0.5, label=\"Coarse model\", color='r')\n",
    "ax.set_ylabel(r\"$F_\\lambda$\" + f\" ({sed1.unit})\")\n",
    "ax.set_yscale('log')\n",
    "ax.legend()\n",
    "ax = axs[1]\n",
    "ax.plot(ssp.wavelength, sed1 / sed2, c='k')\n",
    "ax.set_xlabel(r\"$\\lambda$\" + f\" ({ssp.wavelength.unit})\")\n",
    "ax.set_ylabel(r\"$\\frac{F_{\\lambda, 1}}{F_{\\lambda, 2}}$\")\n",
    "\n",
    "print(\"MEDIAN OFFSET: \", np.nanmedian(sed1 / sed2))"
   ]
  }
 ],
 "metadata": {
  "kernelspec": {
   "display_name": "Python 3 (ipykernel)",
   "language": "python",
   "name": "python3"
  },
  "language_info": {
   "codemirror_mode": {
    "name": "ipython",
    "version": 3
   },
   "file_extension": ".py",
   "mimetype": "text/x-python",
   "name": "python",
   "nbconvert_exporter": "python",
   "pygments_lexer": "ipython3",
   "version": "3.11.5"
  }
 },
 "nbformat": 4,
 "nbformat_minor": 5
}
