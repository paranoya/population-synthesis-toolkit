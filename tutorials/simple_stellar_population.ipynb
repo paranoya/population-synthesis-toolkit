{
 "cells": [
  {
   "cell_type": "markdown",
   "id": "9af690cb",
   "metadata": {},
   "source": [
    "# Simple Stellar Population"
   ]
  },
  {
   "cell_type": "markdown",
   "id": "45e23c11",
   "metadata": {},
   "source": [
    "First, let's import the required PST modules for this tutorial as well as some additional libraries for visualization and analysis of the results."
   ]
  },
  {
   "cell_type": "code",
   "execution_count": null,
   "id": "b5332135",
   "metadata": {},
   "outputs": [],
   "source": [
    "from pst import SSP\n",
    "from pst.observables import load_photometric_filters\n",
    "import numpy as np\n",
    "import matplotlib.pyplot as plt\n",
    "from astropy import units as u"
   ]
  },
  {
   "cell_type": "markdown",
   "id": "61302888",
   "metadata": {},
   "source": [
    "In this tutorial we use the PopStar SSP models from Mollá et al. 2009, with a Chabrier 2003 initial mass function (IMF).\n",
    "\n",
    "Each SSP model is defined by four main attributes:\n",
    "- ages: the ages of each SSP covered by the model\n",
    "- metallicities: the range of metallicities defined by the model\n",
    "- L_lambda contains the SED of each model (metallicity, age, wavelength)\n",
    "- wavelength: the wavelength vector associated to the SED."
   ]
  },
  {
   "cell_type": "code",
   "execution_count": null,
   "id": "1bdcaf27",
   "metadata": {},
   "outputs": [],
   "source": [
    "# Initialize the model\n",
    "imf_type = 'cha'  # Chabrier (2003) Initial Mass Function\n",
    "ssp_model = SSP.PopStar(IMF=imf_type)  # PopStar SSPs (Mollá et al. 2009)\n",
    "\n",
    "print(\"SSP model consisting of: \\n\",\n",
    "    f\"{ssp_model.ages.size} ages from {ssp_model.ages[0]} to {ssp_model.ages[-1]}\",\n",
    "    \"\\n\",\n",
    "    f\"{ssp_model.metallicities.size} metallicities from {ssp_model.metallicities[0]} to {ssp_model.metallicities[-1]}\")\n",
    "\n",
    "print(f\"Wavelength range of the SSP model goes from {ssp_model.wavelength[0]} to {ssp_model.wavelength[-1]}\")\n",
    "print(f\"SED shape: {ssp_model.L_lambda.shape}\")"
   ]
  },
  {
   "cell_type": "markdown",
   "id": "6cb48bbb",
   "metadata": {},
   "source": [
    "## Plot a spectrum\n",
    "Now we can visualize the difference in the SED in terms of stellar age"
   ]
  },
  {
   "cell_type": "code",
   "execution_count": null,
   "id": "19eb47d3",
   "metadata": {},
   "outputs": [],
   "source": [
    "\n",
    "metallicity_idx = 4\n",
    "age_indices = [50, 80]\n",
    "plt.figure()\n",
    "plt.title(f'SSP Spectrum (Z={ssp_model.metallicities[metallicity_idx]})')\n",
    "for age_idx in age_indices:\n",
    "    plt.plot(ssp_model.wavelength,\n",
    "             (ssp_model.wavelength * ssp_model.L_lambda[metallicity_idx, age_idx]).to_value(u.Lsun / u.Msun),\n",
    "             label=f'age={ssp_model.ages[age_idx].to_value(u.Myr):.1f} Myr')\n",
    "plt.legend()\n",
    "plt.xlabel('Wavelength [Angstrom]')\n",
    "plt.xscale('log')\n",
    "plt.ylabel(r'$\\lambda L_\\lambda$ [L$_\\odot$ / M$_\\odot$]')\n",
    "plt.yscale('log')\n",
    "plt.ylim(3e-5, 3e3)\n",
    "plt.show()"
   ]
  },
  {
   "cell_type": "markdown",
   "id": "0a92760d",
   "metadata": {},
   "source": [
    "## Calculate photometry of each SSP\n",
    "\n",
    "We can now predict some observable quantities, such as photometric fluxes, from our SSP model. For that we need first to load some filters using the convenience function `load_photometric_filters`.\n",
    "\n",
    "Fluxes are computed in the AB system, assuming the source is located at 10 pc, including the effect of redshift ($z$). For each band, $i$, SSP metallicity, $Z$, and age, $\\tau$, the specific flux per frequency unit, $f_\\nu$, is given by the following expression:\n",
    "\n",
    "$f_{i,\\,\\nu}(Z, \\tau) = \\frac{\\int_0^{\\infty} \\frac{L_\\lambda(\\lambda\\, (1+z)^{-1})}{(1 + z)\\,4\\pi (10\\,\\rm pc)^2} \\, S_i(\\lambda) \\,\\lambda d\\lambda}{\\int_0^{\\infty} \\frac{3631 {\\rm Jy}}{c\\,\\lambda} S(\\lambda)\\,d\\lambda}$\n",
    "\n"
   ]
  },
  {
   "cell_type": "code",
   "execution_count": null,
   "id": "dc5f7ff0",
   "metadata": {},
   "outputs": [],
   "source": [
    "z_redshift = 0.0 # Redshift at which the SSP are observed\n",
    "list_of_filter_names = [\"SLOAN_SDSS.g\", \"SLOAN_SDSS.r\"]\n",
    "filters = load_photometric_filters(list_of_filter_names)\n",
    "photometry_fluxes = ssp_model.compute_photometry(filter_list=filters,\n",
    "                                                    z_obs=z_redshift)"
   ]
  },
  {
   "cell_type": "code",
   "execution_count": null,
   "id": "89022cf4",
   "metadata": {},
   "outputs": [],
   "source": [
    "# Convert to AB magnitude\n",
    "magnitudes = -2.5 * np.log10(photometry_fluxes.to_value(\"3631 Jy / Msun\"))\n",
    "\n",
    "# Compute g - r color\n",
    "color = magnitudes[0] - magnitudes[1]"
   ]
  },
  {
   "cell_type": "code",
   "execution_count": null,
   "id": "8c76b8fb",
   "metadata": {},
   "outputs": [],
   "source": [
    "# Plot the color as function of stellar age and metallicity\n",
    "plt.figure()\n",
    "plt.title(f'SSP colour as a function of age and metallicity')\n",
    "plt.pcolormesh(ssp_model.ages.to_value(u.yr),\n",
    "               ssp_model.metallicities,\n",
    "               color,\n",
    "               cmap='jet')\n",
    "plt.xlabel('age [yr]')\n",
    "plt.xscale('log')\n",
    "plt.xlim(6e5, 1.5e10)\n",
    "plt.ylabel('metallicity Z')\n",
    "#plt.yscale('log')\n",
    "#plt.ylim(5e-5, 0.05)\n",
    "plt.ylim(0, 0.055)\n",
    "plt.colorbar(label=r'$(g-r)$')\n",
    "plt.show()"
   ]
  }
 ],
 "metadata": {
  "kernelspec": {
   "display_name": "Python 3 (ipykernel)",
   "language": "python",
   "name": "python3"
  },
  "language_info": {
   "codemirror_mode": {
    "name": "ipython",
    "version": 3
   },
   "file_extension": ".py",
   "mimetype": "text/x-python",
   "name": "python",
   "nbconvert_exporter": "python",
   "pygments_lexer": "ipython3",
   "version": "3.11.5"
  }
 },
 "nbformat": 4,
 "nbformat_minor": 5
}
