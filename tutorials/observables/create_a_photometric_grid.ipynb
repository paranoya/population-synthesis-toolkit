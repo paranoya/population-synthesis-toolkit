{
 "cells": [
  {
   "cell_type": "markdown",
   "id": "35f3dc36",
   "metadata": {},
   "source": [
    "# Creating a grid of photometric fluxes\n",
    "\n",
    "This tutorial shows how to generate a grid of photometric fluxes \n",
    "from a given SSP model, consisting of four dimensions:\n",
    "- Observed redshift\n",
    "- Dust attenuation\n",
    "- Filter band\n",
    "- SSP metallicity\n",
    "- SSP age\n",
    "\n",
    "The SSP photometric grid can then be combined with a given\n",
    "star formation history, e.g. a log-normal SFH, to produce a grid of photometric fluxes\n",
    "for different SFHs.\n"
   ]
  },
  {
   "cell_type": "code",
   "execution_count": null,
   "id": "25ec0566",
   "metadata": {},
   "outputs": [],
   "source": [
    "from matplotlib import pyplot as plt\n",
    "import os\n",
    "import numpy as np\n",
    "from time import time\n",
    "from astropy import units as u\n",
    "\n",
    "# Import the SSP model\n",
    "from pst.SSP import PopStar\n",
    "# Import the dust extinction model\n",
    "from pst.dust import DustScreen\n",
    "# Import the observables\n",
    "from pst.observables import Filter, load_photometric_filters\n",
    "# Import the chemical evolution model\n",
    "from pst.models import LogNormalCEM"
   ]
  },
  {
   "cell_type": "code",
   "execution_count": null,
   "id": "00186b3f-cc83-4a51-b785-8a6b588dd597",
   "metadata": {},
   "outputs": [],
   "source": [
    "%load_ext autoreload\n",
    "%autoreload 2"
   ]
  },
  {
   "cell_type": "markdown",
   "id": "77890a0f",
   "metadata": {},
   "source": [
    "## SSP model\n",
    "We are going to use the PopStar SSP model and the Chabrier 2003 IFM."
   ]
  },
  {
   "cell_type": "code",
   "execution_count": null,
   "id": "7ed70885",
   "metadata": {},
   "outputs": [],
   "source": [
    "ssp = PopStar(IMF='cha')"
   ]
  },
  {
   "cell_type": "markdown",
   "id": "9b75b16f",
   "metadata": {},
   "source": [
    "To speed the computation up, we are going to decrease the spectra resolution (to 5 AA) and limit the wavelength range (1000-20000 AA)."
   ]
  },
  {
   "cell_type": "code",
   "execution_count": null,
   "id": "238c1887",
   "metadata": {},
   "outputs": [],
   "source": [
    "ssp.interpolate_sed(np.arange(1000, 2e4, 5.0) * u.angstrom)"
   ]
  },
  {
   "cell_type": "markdown",
   "id": "0ab5eb81-d7c9-448c-8664-20f2015eec0d",
   "metadata": {},
   "source": [
    "### Filters\n",
    "In this example, we'll use the PANSTARRS broad band filters g, r, i and z. "
   ]
  },
  {
   "cell_type": "code",
   "execution_count": null,
   "id": "1cf6fc72",
   "metadata": {},
   "outputs": [],
   "source": [
    "svo_filter_names = ['PAN-STARRS_PS1.g', 'PAN-STARRS_PS1.r', 'PAN-STARRS_PS1.i', 'PAN-STARRS_PS1.z']\n",
    "filters = load_photometric_filters(svo_filter_names)"
   ]
  },
  {
   "cell_type": "code",
   "execution_count": null,
   "id": "8e5c61c1-79ce-4c9b-a9af-29f33851cc61",
   "metadata": {},
   "outputs": [],
   "source": [
    "\n",
    "fig = plt.figure()\n",
    "ax = fig.add_subplot(111)\n",
    "ax.set_title(f'Broad-band filters')\n",
    "ax.set_ylabel('filter response')\n",
    "ax.set_xlabel('wavelength [$\\AA$]')\n",
    "\n",
    "for ff, lbl in zip(filters, svo_filter_names):\n",
    "    ff.interpolate(ssp.wavelength)\n",
    "    ax.plot(ff.wavelength, ff.response, label=lbl)\n",
    "\n",
    "ax.legend()"
   ]
  },
  {
   "cell_type": "markdown",
   "id": "c277f363",
   "metadata": {},
   "source": [
    "### Dust extinction\n",
    "We are also interested on modelling the effects of dust attenuation on the broad band photometry. Let's create a dust screen model based on Cardelli+89 extinction law"
   ]
  },
  {
   "cell_type": "code",
   "execution_count": null,
   "id": "823bcf67",
   "metadata": {},
   "outputs": [],
   "source": [
    "dust_model = DustScreen(\"ccm89\")"
   ]
  },
  {
   "cell_type": "markdown",
   "id": "afa49b7d",
   "metadata": {},
   "source": [
    "### Photometric grid\n",
    "Finally, we may also want to include the effects of redshift on the observed photometry. We can declare the array of extinctions (in terms of $A_V$) and the range of observed redshifts that are going to use to generate the grid."
   ]
  },
  {
   "cell_type": "code",
   "execution_count": null,
   "id": "40f89136",
   "metadata": {},
   "outputs": [],
   "source": [
    "a_v_array = np.linspace(0, 2, 21)\n",
    "redshift_array = np.linspace(0, 1, 11)\n",
    "print('A_V =', a_v_array)\n",
    "print('z =', redshift_array)"
   ]
  },
  {
   "cell_type": "markdown",
   "id": "0f82f1f7",
   "metadata": {},
   "source": [
    "Now it is time to produce the grid"
   ]
  },
  {
   "cell_type": "code",
   "execution_count": null,
   "id": "ff46a243",
   "metadata": {
    "scrolled": true
   },
   "outputs": [],
   "source": [
    "tstart = time()\n",
    "all_photometry = np.zeros(\n",
    "    (redshift_array.size, a_v_array.size, len(filters),\n",
    "                           *ssp.L_lambda.shape[:-1])) << u.Jy/u.Msun\n",
    "\n",
    "for i, z in enumerate(redshift_array):\n",
    "    print(f'Computing photometric grid for redshift z={z}')\n",
    "    for j, av in enumerate(a_v_array):\n",
    "        # For each value of AV, we create a new SSP model\n",
    "        red_ssp = dust_model.redden_ssp_model(ssp, a_v=av)\n",
    "        # Compute the SSP photometry at the observed redhisft z\n",
    "        all_photometry[i, j] = red_ssp.compute_photometry(filter_list=filters,\n",
    "                                                          z_obs=z, verbose=False)\n",
    "\n",
    "tend = time()\n",
    "print(f\"time spent generating SSP photometry: {tend - tstart:.2f} s\")\n",
    "print(\"time spent generating a single SSP model photometry: \",\n",
    "      f\"{(tend - tstart) / (all_photometry.shape[0] * all_photometry.shape[1]):.2f} s\")"
   ]
  },
  {
   "cell_type": "markdown",
   "id": "969ce7a5",
   "metadata": {},
   "source": [
    "Then we end up with a grid that has four dimensions (redshift, Av, filter, metallicity, age)"
   ]
  },
  {
   "cell_type": "code",
   "execution_count": null,
   "id": "0b319822",
   "metadata": {},
   "outputs": [],
   "source": [
    "all_photometry.shape"
   ]
  },
  {
   "cell_type": "markdown",
   "id": "57806919-60d2-4b79-a43e-98ae863b1d8f",
   "metadata": {},
   "source": [
    "Let us explore the relation between age, metallicity, and dust extinction"
   ]
  },
  {
   "cell_type": "code",
   "execution_count": null,
   "id": "c2bffeab-f596-4242-9766-c660f9fbeed3",
   "metadata": {},
   "outputs": [],
   "source": [
    "fig = plt.figure(figsize=(12, 7))\n",
    "\n",
    "idx_redshift = 0\n",
    "fig.suptitle(f'redshift z = {redshift_array[idx_redshift]}')\n",
    "idx_filter1 = 0\n",
    "idx_filter2 = 1\n",
    "for idx_ax, idx_a_v in enumerate([0, 5, 10, 20]):\n",
    "    ax = fig.add_subplot(2, 4, idx_ax+1)\n",
    "    ax.set_title(f'A_V = {a_v_array[idx_a_v]}')\n",
    "    #ax.set_xlabel('age [Gyr]')\n",
    "    ax.set_xscale('log')\n",
    "    ax.set_xlim(6e-4, 15)\n",
    "    if idx_ax == 0:\n",
    "        ax.set_ylabel('metallicity Z')\n",
    "    #ax.set_yscale('log')\n",
    "    ax.set_ylim(5e-5, 0.05)\n",
    "    colour = -2.5 * np.log10(all_photometry[idx_redshift, idx_a_v, idx_filter1] / all_photometry[idx_redshift, idx_a_v, idx_filter2])\n",
    "    mappable = ax.pcolormesh(ssp.ages.to_value(\"Gyr\"), ssp.metallicities, colour,\n",
    "                            vmin=-.3, vmax=1.1, cmap='rainbow')\n",
    "plt.colorbar(mappable, ax=ax, label=f\"{svo_filter_names[idx_filter1]} - {svo_filter_names[idx_filter2]}\")\n",
    "\n",
    "for idx_ax, idx_met in enumerate([2, 3, 4, 5]):\n",
    "    ax = fig.add_subplot(2, 4, idx_ax+5)\n",
    "    ax.set_title(f'Z = {ssp.metallicities[idx_met]}')\n",
    "    ax.set_xlabel('age [Gyr]')\n",
    "    ax.set_xscale('log')\n",
    "    ax.set_xlim(6e-4, 15)\n",
    "    if idx_ax == 0:\n",
    "        ax.set_ylabel('A_V')\n",
    "    #ax.set_yscale('log')\n",
    "    #ax.set_ylim(5e-5, 0.05)\n",
    "    colour = -2.5 * np.log10(all_photometry[idx_redshift, :, idx_filter1, idx_met] / all_photometry[idx_redshift, :, idx_filter2, idx_met])\n",
    "    mappable = ax.pcolormesh(ssp.ages.to_value(\"Gyr\"), a_v_array, colour,\n",
    "                            vmin=-.3, vmax=1.1, cmap='rainbow')\n",
    "plt.colorbar(mappable, ax=ax, label=f\"{svo_filter_names[idx_filter1]} - {svo_filter_names[idx_filter2]}\")\n"
   ]
  },
  {
   "cell_type": "markdown",
   "id": "eac6502a-ccbd-4b41-90ae-5ab60a6b2bc0",
   "metadata": {},
   "source": [
    "Repeating this experiment at $z = 0.1$ illustrates the importance of an accurate k-correction"
   ]
  },
  {
   "cell_type": "code",
   "execution_count": null,
   "id": "1f9945a4-6e09-4d4c-ab8e-87aa765ad5c9",
   "metadata": {},
   "outputs": [],
   "source": [
    "fig = plt.figure(figsize=(12, 7))\n",
    "\n",
    "idx_redshift = 2\n",
    "fig.suptitle(f'redshift z = {redshift_array[idx_redshift]}')\n",
    "idx_filter1 = 0\n",
    "idx_filter2 = 1\n",
    "for idx_ax, idx_a_v in enumerate([0, 5, 10, 20]):\n",
    "    ax = fig.add_subplot(2, 4, idx_ax+1)\n",
    "    ax.set_title(f'A_V = {a_v_array[idx_a_v]}')\n",
    "    #ax.set_xlabel('age [Gyr]')\n",
    "    ax.set_xscale('log')\n",
    "    ax.set_xlim(6e-4, 15)\n",
    "    if idx_ax == 0:\n",
    "        ax.set_ylabel('metallicity Z')\n",
    "    ax.set_yscale('log')\n",
    "    ax.set_ylim(5e-5, 0.05)\n",
    "    colour = -2.5 * np.log10(all_photometry[idx_redshift, idx_a_v, idx_filter1] / all_photometry[idx_redshift, idx_a_v, idx_filter2])\n",
    "    mappable = ax.pcolormesh(ssp.ages.to_value(\"Gyr\"), ssp.metallicities, colour,\n",
    "                            vmin=-.3, vmax=1.1, cmap='rainbow')\n",
    "plt.colorbar(mappable, ax=ax, label=f\"{svo_filter_names[idx_filter1]} - {svo_filter_names[idx_filter2]}\")\n",
    "\n",
    "for idx_ax, idx_met in enumerate([2, 3, 4, 5]):\n",
    "    ax = fig.add_subplot(2, 4, idx_ax+5)\n",
    "    ax.set_title(f'Z = {ssp.metallicities[idx_met]}')\n",
    "    ax.set_xlabel('age [Gyr]')\n",
    "    ax.set_xscale('log')\n",
    "    ax.set_xlim(6e-4, 15)\n",
    "    if idx_ax == 0:\n",
    "        ax.set_ylabel('A_V')\n",
    "    #ax.set_yscale('log')\n",
    "    #ax.set_ylim(5e-5, 0.05)\n",
    "    colour = -2.5 * np.log10(all_photometry[idx_redshift, :, idx_filter1, idx_met] / all_photometry[idx_redshift, :, idx_filter2, idx_met])\n",
    "    mappable = ax.pcolormesh(ssp.ages.to_value(\"Gyr\"), a_v_array, colour,\n",
    "                            vmin=-.3, vmax=1.1, cmap='rainbow')\n",
    "plt.colorbar(mappable, ax=ax, label=f\"{svo_filter_names[idx_filter1]} - {svo_filter_names[idx_filter2]}\")\n"
   ]
  },
  {
   "cell_type": "markdown",
   "id": "d09e027d",
   "metadata": {},
   "source": [
    "## Chemical Evolution Model\n",
    "\n",
    "Now we can increase the complexity and combine the SSP photometric fluxes according to some chemical evolution model. In this example, we are going to use a log-normal star formation history with a metallicity evolution proportional to the stellar mass: $Z(t)=Z_{today}\\, \\left(M(t) / M_{today}\\right)^\\alpha$"
   ]
  },
  {
   "cell_type": "code",
   "execution_count": null,
   "id": "dc9fbc91-da50-40b8-992b-3337e56eb98d",
   "metadata": {},
   "outputs": [],
   "source": [
    "today = 13.7 << u.Gyr\n",
    "mass_today = 1e11 << u.Msun\n",
    "ism_metallicity_today = 0.02 << u.dimensionless_unscaled\n",
    "alpha_powerlaw = 1.5\n",
    "t0 = 0.1 << u.Gyr\n",
    "scale = 2.0"
   ]
  },
  {
   "cell_type": "code",
   "execution_count": null,
   "id": "1b80ee87-53d4-4499-a667-0b4356204ef7",
   "metadata": {},
   "outputs": [],
   "source": [
    "model = LogNormalCEM(\n",
    "    today=today,\n",
    "    mass_today=mass_today, t0=t0, scale=scale,\n",
    "    ism_metallicity_today=ism_metallicity_today, alpha_powerlaw=alpha_powerlaw,\n",
    ")"
   ]
  },
  {
   "cell_type": "markdown",
   "id": "1c30c426",
   "metadata": {},
   "source": [
    "Since we are interested on covering a wide range of possible SFHs, we will generate another grid in terms of the free parameters of the SFH"
   ]
  },
  {
   "cell_type": "code",
   "execution_count": null,
   "id": "48f540a6",
   "metadata": {},
   "outputs": [],
   "source": [
    "#t0_array = today - np.geomspace(100 * u.Myr, today - 1*u.Gyr, 10)\n",
    "t0_array = np.linspace(1, 20, 20) << u.Gyr\n",
    "scale_array = np.geomspace(0.1, 100, 30)\n",
    "print('t0 =', t0_array)\n",
    "print('scale =', scale_array)\n",
    "\n",
    "all_models_photometry = np.zeros(\n",
    "    (t0_array.size, scale_array.size, *all_photometry.shape[:-2]))"
   ]
  },
  {
   "cell_type": "code",
   "execution_count": null,
   "id": "f109f8bc",
   "metadata": {
    "scrolled": true
   },
   "outputs": [],
   "source": [
    "tstart = time()\n",
    "for i, t0 in enumerate(t0_array):\n",
    "    for j, scale in enumerate(scale_array):\n",
    "        model.t0 = t0\n",
    "        model.scale = scale\n",
    "\n",
    "        all_models_photometry[i, j] = model.compute_photometry(\n",
    "            ssp, t_obs=ssp.ages.max(), photometry=all_photometry)\n",
    "\n",
    "tend = time()\n",
    "print(\"time spent generating Model photometry: \", tend - tstart)\n"
   ]
  },
  {
   "cell_type": "markdown",
   "id": "4e20bcb4-c129-4b3d-b908-0bab640117fc",
   "metadata": {},
   "source": [
    "We now have a grid with five dimensions (t0, scale, redshift, Av, filter)"
   ]
  },
  {
   "cell_type": "code",
   "execution_count": null,
   "id": "bb2ac8aa-474c-4e43-bb8c-7c112c6257e9",
   "metadata": {},
   "outputs": [],
   "source": [
    "all_models_photometry.shape"
   ]
  },
  {
   "cell_type": "markdown",
   "id": "6dd850cc-9f12-4c04-968d-9548beee575a",
   "metadata": {},
   "source": [
    "Let us explore how colour depends on the model parameters t0 and scale"
   ]
  },
  {
   "cell_type": "code",
   "execution_count": null,
   "id": "a9fb12e5-0d61-48c6-b52c-891959bb4ad2",
   "metadata": {},
   "outputs": [],
   "source": [
    "fig = plt.figure()\n",
    "\n",
    "idx_redshift = 0\n",
    "idx_a_v = 0\n",
    "\n",
    "ax = fig.add_subplot(111)\n",
    "ax.set_title(f'LogNormalCEM, $z={redshift_array[idx_redshift]}$, $A_V={a_v_array[idx_a_v]}$')\n",
    "ax.set_ylabel('$t_0$ [Gyr]')\n",
    "ax.set_xlabel('scale')\n",
    "ax.set_xscale('log')\n",
    "colour = -2.5 * np.log10(all_models_photometry[:, :, idx_redshift, idx_a_v, idx_filter1] / all_models_photometry[:, :, idx_redshift, idx_a_v, idx_filter2])\n",
    "mappable = ax.pcolormesh(scale_array, t0_array.to_value(u.Gyr), colour, vmin=-.3, vmax=1.1, cmap='rainbow')\n",
    "\n",
    "plt.colorbar(mappable, ax=ax, label=f\"{svo_filter_names[idx_filter1]} - {svo_filter_names[idx_filter2]}\")\n"
   ]
  }
 ],
 "metadata": {
  "kernelspec": {
   "display_name": "Python 3 (ipykernel)",
   "language": "python",
   "name": "python3"
  },
  "language_info": {
   "codemirror_mode": {
    "name": "ipython",
    "version": 3
   },
   "file_extension": ".py",
   "mimetype": "text/x-python",
   "name": "python",
   "nbconvert_exporter": "python",
   "pygments_lexer": "ipython3",
   "version": "3.8.10"
  }
 },
 "nbformat": 4,
 "nbformat_minor": 5
}
